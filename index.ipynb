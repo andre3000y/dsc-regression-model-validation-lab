{
 "cells": [
  {
   "cell_type": "markdown",
   "metadata": {},
   "source": [
    "# Regression Model Validation - Lab\n",
    "\n",
    "## Introduction\n",
    "\n",
    "In this lab, you'll be able to validate your Ames Housing data model using train-test split.\n",
    "\n",
    "\n",
    "## Objectives\n",
    "\n",
    "You will be able to:\n",
    "\n",
    "- Compare training and testing errors to determine if model is over or underfitting\n"
   ]
  },
  {
   "cell_type": "markdown",
   "metadata": {},
   "source": [
    "## Let's use our Ames Housing Data again!\n",
    "\n",
    "We included the code to preprocess below."
   ]
  },
  {
   "cell_type": "code",
   "execution_count": 1,
   "metadata": {},
   "outputs": [],
   "source": [
    "import pandas as pd\n",
    "import numpy as np\n",
    "import matplotlib.pyplot as plt\n",
    "%matplotlib inline\n",
    "\n",
    "ames = pd.read_csv('ames.csv')\n",
    "\n",
    "# using 9 predictive categorical or continuous features, plus the target SalePrice\n",
    "continuous = ['LotArea', '1stFlrSF', 'GrLivArea', 'SalePrice']\n",
    "categoricals = ['BldgType', 'KitchenQual', 'SaleType', 'MSZoning', 'Street', 'Neighborhood']\n",
    "\n",
    "ames_cont = ames[continuous]\n",
    "\n",
    "# log features\n",
    "log_names = [f'{column}_log' for column in ames_cont.columns]\n",
    "\n",
    "ames_log = np.log(ames_cont)\n",
    "ames_log.columns = log_names\n",
    "\n",
    "# normalize (subract mean and divide by std)\n",
    "\n",
    "def normalize(feature):\n",
    "    return (feature - feature.mean()) / feature.std()\n",
    "\n",
    "ames_log_norm = ames_log.apply(normalize)\n",
    "\n",
    "# one hot encode categoricals\n",
    "ames_ohe = pd.get_dummies(ames[categoricals], prefix=categoricals, drop_first=True)\n",
    "\n",
    "preprocessed = pd.concat([ames_log_norm, ames_ohe], axis=1)"
   ]
  },
  {
   "cell_type": "code",
   "execution_count": 2,
   "metadata": {},
   "outputs": [],
   "source": [
    "X = preprocessed.drop('SalePrice_log', axis=1)\n",
    "y = preprocessed['SalePrice_log']"
   ]
  },
  {
   "cell_type": "markdown",
   "metadata": {},
   "source": [
    "### Perform a train-test split"
   ]
  },
  {
   "cell_type": "code",
   "execution_count": 3,
   "metadata": {},
   "outputs": [],
   "source": [
    "# Split the data into training and test sets. Use the default split size\n",
    "from sklearn.model_selection import train_test_split as t_t_s\n",
    "X_tr, X_te, y_tr, y_te = t_t_s(X, y)"
   ]
  },
  {
   "cell_type": "markdown",
   "metadata": {},
   "source": [
    "### Apply your model to the train set"
   ]
  },
  {
   "cell_type": "code",
   "execution_count": 4,
   "metadata": {},
   "outputs": [],
   "source": [
    "# Import and initialize the linear regression model class\n",
    "from sklearn.linear_model import LinearRegression\n",
    "linreg = LinearRegression()"
   ]
  },
  {
   "cell_type": "code",
   "execution_count": 5,
   "metadata": {},
   "outputs": [
    {
     "data": {
      "text/plain": [
       "LinearRegression()"
      ]
     },
     "execution_count": 5,
     "metadata": {},
     "output_type": "execute_result"
    }
   ],
   "source": [
    "# Fit the model to train data\n",
    "linreg.fit(X_tr,y_tr)"
   ]
  },
  {
   "cell_type": "markdown",
   "metadata": {},
   "source": [
    "### Calculate predictions on training and test sets"
   ]
  },
  {
   "cell_type": "code",
   "execution_count": 6,
   "metadata": {},
   "outputs": [],
   "source": [
    "# Calculate predictions on training and test sets\n",
    "y_trhat = linreg.predict(X_tr)\n",
    "y_tehat = linreg.predict(X_te)"
   ]
  },
  {
   "cell_type": "markdown",
   "metadata": {},
   "source": [
    "### Calculate training and test residuals"
   ]
  },
  {
   "cell_type": "code",
   "execution_count": 7,
   "metadata": {},
   "outputs": [],
   "source": [
    "# Calculate residuals\n",
    "y_trres = y_trhat - y_tr\n",
    "y_teres = y_tehat - y_te"
   ]
  },
  {
   "cell_type": "markdown",
   "metadata": {},
   "source": [
    "### Calculate the Mean Squared Error (MSE)\n",
    "\n",
    "A good way to compare overall performance is to compare the mean squarred error for the predicted values on the training and test sets."
   ]
  },
  {
   "cell_type": "code",
   "execution_count": 8,
   "metadata": {},
   "outputs": [],
   "source": [
    "# Import mean_squared_error from sklearn.metrics\n",
    "from sklearn.metrics import mean_squared_error as mse"
   ]
  },
  {
   "cell_type": "code",
   "execution_count": 9,
   "metadata": {},
   "outputs": [
    {
     "name": "stdout",
     "output_type": "stream",
     "text": [
      "\n",
      "Training MSE: 0.1523556811167239\n",
      "Testing MSE: 0.19876964255858712\n",
      "\n"
     ]
    }
   ],
   "source": [
    "# Calculate training and test MSE\n",
    "train_mse = mse(y_tr, y_trhat)\n",
    "test_mse = mse(y_te, y_tehat)\n",
    "print(f'''\n",
    "Training MSE: {train_mse}\n",
    "Testing MSE: {test_mse}\n",
    "''')"
   ]
  },
  {
   "cell_type": "markdown",
   "metadata": {},
   "source": [
    "If your test error is substantially worse than the train error, this is a sign that the model doesn't generalize well to future cases."
   ]
  },
  {
   "cell_type": "markdown",
   "metadata": {},
   "source": [
    "One simple way to demonstrate overfitting and underfitting is to alter the size of our train-test split. By default, scikit-learn allocates 25% of the data to the test set and 75% to the training set. Fitting a model on only 10% of the data is apt to lead to underfitting, while training a model on 99% of the data is apt to lead to overfitting."
   ]
  },
  {
   "cell_type": "markdown",
   "metadata": {},
   "source": [
    "# Evaluate the effect of train-test split size\n",
    "\n",
    "Iterate over a range of train-test split sizes from .5 to .95. For each of these, generate a new train/test split sample. Fit a model to the training sample and calculate both the training error and the test error (mse) for each of these splits. Plot these two curves (train error vs. training size and test error vs. training size) on a graph."
   ]
  },
  {
   "cell_type": "code",
   "execution_count": 10,
   "metadata": {},
   "outputs": [
    {
     "data": {
      "image/png": "[encoded data removed]",
      "text/plain": [
       "<Figure size 1080x1080 with 1 Axes>"
      ]
     },
     "metadata": {
      "needs_background": "light"
     },
     "output_type": "display_data"
    }
   ],
   "source": [
    "# Your code here\n",
    "train_sizes = np.linspace(0.5, 0.95, 46)\n",
    "train_mses = []\n",
    "test_mses = []\n",
    "\n",
    "for size in train_sizes:\n",
    "    while 1:\n",
    "        X_tr, X_te, y_tr, y_te = t_t_s(X, y, test_size = size)\n",
    "        linreg = LinearRegression()\n",
    "        linreg.fit(X_tr, y_tr)\n",
    "        if linreg.score(X_te, y_te) < 0.1:\n",
    "            continue\n",
    "        y_trhat = linreg.predict(X_tr)\n",
    "        y_tehat = linreg.predict(X_te)\n",
    "        train_mse = mse(y_tr, y_trhat)\n",
    "        test_mse = mse(y_te, y_tehat)\n",
    "        train_mses.append(train_mse)\n",
    "        test_mses.append(test_mse)\n",
    "        break\n",
    "    \n",
    "fig, ax = plt.subplots(figsize = (15,15))\n",
    "\n",
    "ax.scatter(train_sizes, train_mses, color = 'red', label = 'Training MSE')\n",
    "ax.scatter(train_sizes, test_mses, color = 'blue', label = 'Testing MSE')\n",
    "ax.set_title('Training and Testing MSEs\\nvs Training Data Size', fontsize = 20)\n",
    "ax.set_xlabel('Training Data Size', fontsize = 15)\n",
    "ax.set_ylabel('MSE', fontsize = 15)\n",
    "plt.legend();"
   ]
  },
  {
   "cell_type": "code",
   "execution_count": 11,
   "metadata": {},
   "outputs": [],
   "source": [
    "# NOTE: I added the linreg.score() check because occasionally,\n",
    "# the random sampling resulted in a negative R2 value of\n",
    "# magnitude 10 to the 20+. Clearly, this is a result\n",
    "# of an extremely unrepresentative training subset\n",
    "# and/or a screw-up in calculating the fit"
   ]
  },
  {
   "cell_type": "markdown",
   "metadata": {},
   "source": [
    "# Evaluate the effect of train-test split size: Extension\n",
    "\n",
    "Repeat the previous example, but for each train-test split size, generate 10 iterations of models/errors and save the average train/test error. This will help account for any particularly good/bad models that might have resulted from poor/good splits in the data. "
   ]
  },
  {
   "cell_type": "code",
   "execution_count": 12,
   "metadata": {},
   "outputs": [
    {
     "data": {
      "image/png": "[encoded data removed]",
      "text/plain": [
       "<Figure size 1080x1080 with 1 Axes>"
      ]
     },
     "metadata": {
      "needs_background": "light"
     },
     "output_type": "display_data"
    }
   ],
   "source": [
    "# Your code here\n",
    "train_sizes = np.linspace(0.5, 0.95, 46)\n",
    "train_mses = []\n",
    "test_mses = []\n",
    "\n",
    "for size in train_sizes:\n",
    "    train_mse_samples = []\n",
    "    test_mse_samples = []\n",
    "    count = 0\n",
    "    while count != 10:\n",
    "        while 1:\n",
    "            X_tr, X_te, y_tr, y_te = t_t_s(X, y, test_size = size)\n",
    "            linreg = LinearRegression()\n",
    "            linreg.fit(X_tr, y_tr)\n",
    "            if linreg.score(X_te,y_te) < 0.1:\n",
    "                continue\n",
    "            y_trhat = linreg.predict(X_tr)\n",
    "            y_tehat = linreg.predict(X_te)\n",
    "            train_mse = mse(y_tr, y_trhat)\n",
    "            test_mse = mse(y_te, y_tehat)\n",
    "            train_mse_samples.append(train_mse)\n",
    "            test_mse_samples.append(test_mse)\n",
    "            count += 1\n",
    "            break\n",
    "            \n",
    "    train_mses.append(sum(train_mse_samples)/len(train_mse_samples))\n",
    "    test_mses.append(sum(test_mse_samples)/len(test_mse_samples))\n",
    "    \n",
    "fig, ax = plt.subplots(figsize = (15,15))\n",
    "\n",
    "ax.scatter(train_sizes, train_mses, color = 'red', label = 'Training MSE')\n",
    "ax.scatter(train_sizes, test_mses, color = 'blue', label = 'Testing MSE')\n",
    "ax.set_title('Average Training and Testing MSEs\\nvs Training Data Size', fontsize = 20)\n",
    "ax.set_xlabel('Training Data Size', fontsize = 15)\n",
    "ax.set_ylabel('Average MSE', fontsize = 15)\n",
    "plt.legend();"
   ]
  },
  {
   "cell_type": "markdown",
   "metadata": {},
   "source": [
    "What's happening here? Evaluate your result!"
   ]
  },
  {
   "cell_type": "markdown",
   "metadata": {},
   "source": [
    "##  Summary "
   ]
  },
  {
   "cell_type": "markdown",
   "metadata": {},
   "source": [
    "Congratulations! You now practiced your knowledge of MSE and used your train-test split skills to validate your model."
   ]
  }
 ],
 "metadata": {
  "kernelspec": {
   "display_name": "Python 3",
   "language": "python",
   "name": "python3"
  },
  "language_info": {
   "codemirror_mode": {
    "name": "ipython",
    "version": 3
   },
   "file_extension": ".py",
   "mimetype": "text/x-python",
   "name": "python",
   "nbconvert_exporter": "python",
   "pygments_lexer": "ipython3",
   "version": "3.8.8"
  }
 },
 "nbformat": 4,
 "nbformat_minor": 4
}
